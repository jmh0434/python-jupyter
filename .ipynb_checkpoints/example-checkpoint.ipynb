{
 "cells": [
  {
   "cell_type": "code",
   "execution_count": 221,
   "metadata": {},
   "outputs": [],
   "source": [
    "from numpy import dot\n",
    "from numpy.linalg import norm\n",
    "import numpy as np\n",
    "import pandas as pd"
   ]
  },
  {
   "cell_type": "code",
   "execution_count": 222,
   "metadata": {},
   "outputs": [
    {
     "data": {
      "text/html": [
       "<div>\n",
       "<style scoped>\n",
       "    .dataframe tbody tr th:only-of-type {\n",
       "        vertical-align: middle;\n",
       "    }\n",
       "\n",
       "    .dataframe tbody tr th {\n",
       "        vertical-align: top;\n",
       "    }\n",
       "\n",
       "    .dataframe thead th {\n",
       "        text-align: right;\n",
       "    }\n",
       "</style>\n",
       "<table border=\"1\" class=\"dataframe\">\n",
       "  <thead>\n",
       "    <tr style=\"text-align: right;\">\n",
       "      <th></th>\n",
       "      <th>전통주명</th>\n",
       "      <th>가격</th>\n",
       "      <th>용량</th>\n",
       "      <th>주종</th>\n",
       "      <th>도수</th>\n",
       "      <th>단맛</th>\n",
       "      <th>신맛</th>\n",
       "      <th>바디감</th>\n",
       "      <th>향</th>\n",
       "      <th>청량감</th>\n",
       "      <th>균형감</th>\n",
       "      <th>목넘김</th>\n",
       "      <th>맛</th>\n",
       "      <th>잘 어울리는 음식</th>\n",
       "      <th>주원료</th>\n",
       "      <th>제조사</th>\n",
       "    </tr>\n",
       "  </thead>\n",
       "  <tbody>\n",
       "    <tr>\n",
       "      <th>0</th>\n",
       "      <td>가야 프리미엄 막걸리</td>\n",
       "      <td>32,000</td>\n",
       "      <td>750ml</td>\n",
       "      <td>과실주</td>\n",
       "      <td>6.0</td>\n",
       "      <td>3.0</td>\n",
       "      <td>3.0</td>\n",
       "      <td>2.0</td>\n",
       "      <td>NaN</td>\n",
       "      <td>4.0</td>\n",
       "      <td>NaN</td>\n",
       "      <td>NaN</td>\n",
       "      <td>NaN</td>\n",
       "      <td>NaN</td>\n",
       "      <td>김해 쌀(100%)</td>\n",
       "      <td>가야양조장</td>\n",
       "    </tr>\n",
       "  </tbody>\n",
       "</table>\n",
       "</div>"
      ],
      "text/plain": [
       "          전통주명      가격     용량   주종   도수   단맛   신맛  바디감   향  청량감  균형감  목넘김  \\\n",
       "0  가야 프리미엄 막걸리  32,000  750ml  과실주  6.0  3.0  3.0  2.0 NaN  4.0  NaN  NaN   \n",
       "\n",
       "     맛 잘 어울리는 음식         주원료    제조사  \n",
       "0  NaN       NaN  김해 쌀(100%)  가야양조장  "
      ]
     },
     "execution_count": 222,
     "metadata": {},
     "output_type": "execute_result"
    }
   ],
   "source": [
    "drinks = pd.read_csv('korean_drinks.csv') # 전통주 csv 파일 읽어오기 \n",
    "drinks.head(1) // 가장 최상위 행 출력"
   ]
  },
  {
   "cell_type": "code",
   "execution_count": 2,
   "metadata": {},
   "outputs": [
    {
     "ename": "NameError",
     "evalue": "name 'drinks' is not defined",
     "output_type": "error",
     "traceback": [
      "\u001b[0;31m---------------------------------------------------------------------------\u001b[0m",
      "\u001b[0;31mNameError\u001b[0m                                 Traceback (most recent call last)",
      "\u001b[0;32m/var/folders/k6/8bdr75150lx2_c2xq40f94nm0000gn/T/ipykernel_39607/2384720090.py\u001b[0m in \u001b[0;36m<module>\u001b[0;34m\u001b[0m\n\u001b[1;32m      1\u001b[0m \u001b[0mcol_list\u001b[0m \u001b[0;34m=\u001b[0m \u001b[0;34m[\u001b[0m\u001b[0;34m'단맛'\u001b[0m\u001b[0;34m,\u001b[0m \u001b[0;34m'신맛'\u001b[0m\u001b[0;34m,\u001b[0m \u001b[0;34m'바디감'\u001b[0m\u001b[0;34m,\u001b[0m \u001b[0;34m'청량감'\u001b[0m\u001b[0;34m]\u001b[0m \u001b[0;31m# 단맛, 신맛, 바디감, 청량감 열만 가져오기\u001b[0m\u001b[0;34m\u001b[0m\u001b[0;34m\u001b[0m\u001b[0m\n\u001b[0;32m----> 2\u001b[0;31m \u001b[0mdrinks_df\u001b[0m \u001b[0;34m=\u001b[0m \u001b[0mdrinks\u001b[0m\u001b[0;34m[\u001b[0m\u001b[0mcol_list\u001b[0m\u001b[0;34m]\u001b[0m\u001b[0;34m\u001b[0m\u001b[0;34m\u001b[0m\u001b[0m\n\u001b[0m\u001b[1;32m      3\u001b[0m \u001b[0mprint\u001b[0m\u001b[0;34m(\u001b[0m\u001b[0mdrinks_df\u001b[0m\u001b[0;34m)\u001b[0m \u001b[0;31m# 출력\u001b[0m\u001b[0;34m\u001b[0m\u001b[0;34m\u001b[0m\u001b[0m\n",
      "\u001b[0;31mNameError\u001b[0m: name 'drinks' is not defined"
     ]
    }
   ],
   "source": [
    "col_list = ['단맛', '신맛', '바디감', '청량감'] # 단맛, 신맛, 바디감, 청량감 열만 가져오기\n",
    "drinks_df = drinks[col_list]\n",
    "print(drinks_df) # 출력"
   ]
  },
  {
   "cell_type": "code",
   "execution_count": 224,
   "metadata": {},
   "outputs": [
    {
     "data": {
      "text/plain": [
       "array([2., 2., 3., 2.])"
      ]
     },
     "execution_count": 224,
     "metadata": {},
     "output_type": "execute_result"
    }
   ],
   "source": [
    "drinks_list= np.array(drinks_df.head(446).values.tolist()) # 리스트를 넘파이 행렬로 변환하여 계산할 수 있도록 해준다\n",
    "drinks_list[445] # 가장 마지막 행 출력"
   ]
  },
  {
   "cell_type": "code",
   "execution_count": 1,
   "metadata": {},
   "outputs": [
    {
     "ename": "SyntaxError",
     "evalue": "invalid syntax (472429470.py, line 1)",
     "output_type": "error",
     "traceback": [
      "\u001b[0;36m  File \u001b[0;32m\"/var/folders/k6/8bdr75150lx2_c2xq40f94nm0000gn/T/ipykernel_39607/472429470.py\"\u001b[0;36m, line \u001b[0;32m1\u001b[0m\n\u001b[0;31m    def cos_sim(A, B): // 코사인 유사도 공식\u001b[0m\n\u001b[0m                       ^\u001b[0m\n\u001b[0;31mSyntaxError\u001b[0m\u001b[0;31m:\u001b[0m invalid syntax\n"
     ]
    }
   ],
   "source": [
    "def cos_sim(A, B): # 코사인 유사도 공식\n",
    "    return dot(A, B) / (norm(A) * norm(B))\n",
    "\n",
    "user = [3.0, 3.0, 2.0, 4.0] # 임의로 입력한 점수\n",
    "doc1 = np.array(user) # 사용자의 점수\n",
    "doc2 = np.array(drinks_df.head(446).values[0]) # 비교하고자 하는 행의 밸류들\n",
    "best = cos_sim(doc1, doc2) # 가장 유사도가 높은 변수 초기화\n",
    "\n",
    "for i in range(0, 445): # 전통주의 개수만큼 반복\n",
    "    doc3 = np.array(drinks_df.head(446).values[i]) # 비교하고자 하는 행의 밸류들\n",
    "    if cos_sim(doc1, doc3) >= best: # 만약 현재 행이 가장 유사도가 높다면\n",
    "        best = cos_sim(doc1, doc3) # best 변수에 넣기\n",
    "        print('현재 가장 유사도가 높은 행: ', i) # 변경이 일어난 행\n",
    "\n",
    "print('가장 높은 유사도 값: ', best) # 가장 높은 유사도값\n",
    "print('가장 높은 유사도 값 행의 밸류들: ',doc3) # 가장 높은 유사도값 행의 밸류들"
   ]
  },
  {
   "cell_type": "code",
   "execution_count": null,
   "metadata": {},
   "outputs": [],
   "source": []
  }
 ],
 "metadata": {
  "kernelspec": {
   "display_name": "Python 3 (ipykernel)",
   "language": "python",
   "name": "python3"
  },
  "language_info": {
   "codemirror_mode": {
    "name": "ipython",
    "version": 3
   },
   "file_extension": ".py",
   "mimetype": "text/x-python",
   "name": "python",
   "nbconvert_exporter": "python",
   "pygments_lexer": "ipython3",
   "version": "3.9.13"
  },
  "vscode": {
   "interpreter": {
    "hash": "b0fa6594d8f4cbf19f97940f81e996739fb7646882a419484c72d19e05852a7e"
   }
  }
 },
 "nbformat": 4,
 "nbformat_minor": 2
}
