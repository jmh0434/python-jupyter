{
 "cells": [
  {
   "cell_type": "code",
   "execution_count": 671,
   "metadata": {},
   "outputs": [],
   "source": [
    "import numpy as np\n",
    "import pandas as pd\n",
    "import io\n",
    "import re\n",
    "from konlpy.tag import Hannanum, Kkma, Komoran, Mecab, Okt\n",
    "from gensim.models import Word2Vec"
   ]
  },
  {
   "cell_type": "code",
   "execution_count": 672,
   "metadata": {},
   "outputs": [
    {
     "data": {
      "text/html": [
       "<div>\n",
       "<style scoped>\n",
       "    .dataframe tbody tr th:only-of-type {\n",
       "        vertical-align: middle;\n",
       "    }\n",
       "\n",
       "    .dataframe tbody tr th {\n",
       "        vertical-align: top;\n",
       "    }\n",
       "\n",
       "    .dataframe thead th {\n",
       "        text-align: right;\n",
       "    }\n",
       "</style>\n",
       "<table border=\"1\" class=\"dataframe\">\n",
       "  <thead>\n",
       "    <tr style=\"text-align: right;\">\n",
       "      <th></th>\n",
       "      <th>name</th>\n",
       "      <th>address</th>\n",
       "      <th>time</th>\n",
       "      <th>phone</th>\n",
       "      <th>menu</th>\n",
       "    </tr>\n",
       "  </thead>\n",
       "  <tbody>\n",
       "    <tr>\n",
       "      <th>0</th>\n",
       "      <td>막걸리전당</td>\n",
       "      <td>서울 관악구 봉천로 461-1 1층</td>\n",
       "      <td>매일 16:00 ~ 01:00</td>\n",
       "      <td>0507-1407-7103</td>\n",
       "      <td>전당모둠전, 옛날모둠전, 국산전두부와볶음김치, 한통다골뱅이무침, 한돈육전, 홍어를무...</td>\n",
       "    </tr>\n",
       "    <tr>\n",
       "      <th>1</th>\n",
       "      <td>한식술집 돌</td>\n",
       "      <td>서울 성북구 보문로34길 87 1층</td>\n",
       "      <td>매일 17:00-24:00</td>\n",
       "      <td>0507-1336-5824</td>\n",
       "      <td>노돈보쌈, 뭉티기, 전복내장 파스타, 메로조림, 낙지젓갈 볶음밥, 곤드레 아란치니....</td>\n",
       "    </tr>\n",
       "    <tr>\n",
       "      <th>2</th>\n",
       "      <td>박가네 빈대떡</td>\n",
       "      <td>서울 종로구 종로32길 7</td>\n",
       "      <td>매일: 08:00 - 22:00</td>\n",
       "      <td>02-2264-0847</td>\n",
       "      <td>박가네 삼합, 맷돌 빈대떡,고기 빈대떡, 해물 빈대떡, 마약김밥(2인), 육회탕탕이...</td>\n",
       "    </tr>\n",
       "    <tr>\n",
       "      <th>3</th>\n",
       "      <td>종부네</td>\n",
       "      <td>서울 동작구 동작대로27가길 37 2층</td>\n",
       "      <td>화~목: 17:00-01:00 금17:00-01:00 토: 14:00-01:00 일...</td>\n",
       "      <td>010-4305-1805</td>\n",
       "      <td>육회, 통골뱅이파무침, 오뱅새세트, 마약옥수수전, 모둠전, 치즈감자채전</td>\n",
       "    </tr>\n",
       "    <tr>\n",
       "      <th>4</th>\n",
       "      <td>화실</td>\n",
       "      <td>서울 노원구 한글비석로20길 62 송림빌딩 101호</td>\n",
       "      <td>수,목 17:00-01:00  금,토 17:00-02:00 (일,월 정기휴무)</td>\n",
       "      <td>0507-1397-2490</td>\n",
       "      <td>불고기 트러플 크림 파케리, 청어알 들기름 냉파스타, 명란감자구이, 청어알 두부쌈,...</td>\n",
       "    </tr>\n",
       "  </tbody>\n",
       "</table>\n",
       "</div>"
      ],
      "text/plain": [
       "      name                       address  \\\n",
       "0    막걸리전당           서울 관악구 봉천로 461-1 1층   \n",
       "1   한식술집 돌           서울 성북구 보문로34길 87 1층   \n",
       "2  박가네 빈대떡                서울 종로구 종로32길 7   \n",
       "3      종부네         서울 동작구 동작대로27가길 37 2층   \n",
       "4       화실  서울 노원구 한글비석로20길 62 송림빌딩 101호   \n",
       "\n",
       "                                                time           phone  \\\n",
       "0                                   매일 16:00 ~ 01:00  0507-1407-7103   \n",
       "1                                     매일 17:00-24:00  0507-1336-5824   \n",
       "2                                  매일: 08:00 - 22:00    02-2264-0847   \n",
       "3  화~목: 17:00-01:00 금17:00-01:00 토: 14:00-01:00 일...   010-4305-1805   \n",
       "4        수,목 17:00-01:00  금,토 17:00-02:00 (일,월 정기휴무)  0507-1397-2490   \n",
       "\n",
       "                                                menu  \n",
       "0  전당모둠전, 옛날모둠전, 국산전두부와볶음김치, 한통다골뱅이무침, 한돈육전, 홍어를무...  \n",
       "1  노돈보쌈, 뭉티기, 전복내장 파스타, 메로조림, 낙지젓갈 볶음밥, 곤드레 아란치니....  \n",
       "2  박가네 삼합, 맷돌 빈대떡,고기 빈대떡, 해물 빈대떡, 마약김밥(2인), 육회탕탕이...  \n",
       "3            육회, 통골뱅이파무침, 오뱅새세트, 마약옥수수전, 모둠전, 치즈감자채전  \n",
       "4  불고기 트러플 크림 파케리, 청어알 들기름 냉파스타, 명란감자구이, 청어알 두부쌈,...  "
      ]
     },
     "execution_count": 672,
     "metadata": {},
     "output_type": "execute_result"
    }
   ],
   "source": [
    "data = pd.read_csv('/Users/minhyuk/study/example/thesool_all.csv')\n",
    "data.head()"
   ]
  },
  {
   "cell_type": "code",
   "execution_count": 673,
   "metadata": {},
   "outputs": [
    {
     "data": {
      "text/html": [
       "<div>\n",
       "<style scoped>\n",
       "    .dataframe tbody tr th:only-of-type {\n",
       "        vertical-align: middle;\n",
       "    }\n",
       "\n",
       "    .dataframe tbody tr th {\n",
       "        vertical-align: top;\n",
       "    }\n",
       "\n",
       "    .dataframe thead th {\n",
       "        text-align: right;\n",
       "    }\n",
       "</style>\n",
       "<table border=\"1\" class=\"dataframe\">\n",
       "  <thead>\n",
       "    <tr style=\"text-align: right;\">\n",
       "      <th></th>\n",
       "      <th>name</th>\n",
       "      <th>menu</th>\n",
       "    </tr>\n",
       "  </thead>\n",
       "  <tbody>\n",
       "    <tr>\n",
       "      <th>0</th>\n",
       "      <td>막걸리전당</td>\n",
       "      <td>전당모둠전, 옛날모둠전, 국산전두부와볶음김치, 한통다골뱅이무침, 한돈육전, 홍어를무...</td>\n",
       "    </tr>\n",
       "    <tr>\n",
       "      <th>1</th>\n",
       "      <td>한식술집 돌</td>\n",
       "      <td>노돈보쌈, 뭉티기, 전복내장 파스타, 메로조림, 낙지젓갈 볶음밥, 곤드레 아란치니....</td>\n",
       "    </tr>\n",
       "    <tr>\n",
       "      <th>2</th>\n",
       "      <td>박가네 빈대떡</td>\n",
       "      <td>박가네 삼합, 맷돌 빈대떡,고기 빈대떡, 해물 빈대떡, 마약김밥(2인), 육회탕탕이...</td>\n",
       "    </tr>\n",
       "    <tr>\n",
       "      <th>3</th>\n",
       "      <td>종부네</td>\n",
       "      <td>육회, 통골뱅이파무침, 오뱅새세트, 마약옥수수전, 모둠전, 치즈감자채전</td>\n",
       "    </tr>\n",
       "    <tr>\n",
       "      <th>4</th>\n",
       "      <td>화실</td>\n",
       "      <td>불고기 트러플 크림 파케리, 청어알 들기름 냉파스타, 명란감자구이, 청어알 두부쌈,...</td>\n",
       "    </tr>\n",
       "  </tbody>\n",
       "</table>\n",
       "</div>"
      ],
      "text/plain": [
       "      name                                               menu\n",
       "0    막걸리전당  전당모둠전, 옛날모둠전, 국산전두부와볶음김치, 한통다골뱅이무침, 한돈육전, 홍어를무...\n",
       "1   한식술집 돌  노돈보쌈, 뭉티기, 전복내장 파스타, 메로조림, 낙지젓갈 볶음밥, 곤드레 아란치니....\n",
       "2  박가네 빈대떡  박가네 삼합, 맷돌 빈대떡,고기 빈대떡, 해물 빈대떡, 마약김밥(2인), 육회탕탕이...\n",
       "3      종부네            육회, 통골뱅이파무침, 오뱅새세트, 마약옥수수전, 모둠전, 치즈감자채전\n",
       "4       화실  불고기 트러플 크림 파케리, 청어알 들기름 냉파스타, 명란감자구이, 청어알 두부쌈,..."
      ]
     },
     "execution_count": 673,
     "metadata": {},
     "output_type": "execute_result"
    }
   ],
   "source": [
    "shop_list = data[['name', 'menu']]\n",
    "shop_list.head()"
   ]
  },
  {
   "cell_type": "code",
   "execution_count": 674,
   "metadata": {},
   "outputs": [],
   "source": [
    "# df = pd.DataFrame(shop_list, columns = ['name', 'menu'])\n",
    "# df.head()"
   ]
  },
  {
   "cell_type": "code",
   "execution_count": 675,
   "metadata": {},
   "outputs": [],
   "source": [
    "hannanum = Hannanum()\n",
    "kkma = Kkma()\n",
    "komoran = Komoran()\n",
    "okt = Okt()\n",
    "\n",
    "\n",
    "def tokenizer(row):\n",
    "    return kkma.nouns(row)"
   ]
  },
  {
   "cell_type": "code",
   "execution_count": 676,
   "metadata": {},
   "outputs": [
    {
     "name": "stderr",
     "output_type": "stream",
     "text": [
      "/var/folders/k6/8bdr75150lx2_c2xq40f94nm0000gn/T/ipykernel_46046/1638933935.py:11: SettingWithCopyWarning: \n",
      "A value is trying to be set on a copy of a slice from a DataFrame.\n",
      "Try using .loc[row_indexer,col_indexer] = value instead\n",
      "\n",
      "See the caveats in the documentation: https://pandas.pydata.org/pandas-docs/stable/user_guide/indexing.html#returning-a-view-versus-a-copy\n",
      "  shop_list['rev_token'] = shop_list['menu'].apply(tokenizer)\n"
     ]
    },
    {
     "data": {
      "text/html": [
       "<div>\n",
       "<style scoped>\n",
       "    .dataframe tbody tr th:only-of-type {\n",
       "        vertical-align: middle;\n",
       "    }\n",
       "\n",
       "    .dataframe tbody tr th {\n",
       "        vertical-align: top;\n",
       "    }\n",
       "\n",
       "    .dataframe thead th {\n",
       "        text-align: right;\n",
       "    }\n",
       "</style>\n",
       "<table border=\"1\" class=\"dataframe\">\n",
       "  <thead>\n",
       "    <tr style=\"text-align: right;\">\n",
       "      <th></th>\n",
       "      <th>name</th>\n",
       "      <th>menu</th>\n",
       "      <th>rev_token</th>\n",
       "    </tr>\n",
       "  </thead>\n",
       "  <tbody>\n",
       "    <tr>\n",
       "      <th>0</th>\n",
       "      <td>막걸리전당</td>\n",
       "      <td>전당모둠전, 옛날모둠전, 국산전두부와볶음김치, 한통다골뱅이무침, 한돈육전, 홍어를무...</td>\n",
       "      <td>[전당, 전당모둠전, 모둠, 전, 옛날, 옛날모둠전, 국산, 전두, 전두부와, 부와...</td>\n",
       "    </tr>\n",
       "    <tr>\n",
       "      <th>1</th>\n",
       "      <td>한식술집 돌</td>\n",
       "      <td>노돈보쌈, 뭉티기, 전복내장 파스타, 메로조림, 낙지젓갈 볶음밥, 곤드레 아란치니....</td>\n",
       "      <td>[노, 노돈보쌈, 돈, 보쌈, 뭉, 뭉티, 티, 전복, 전복내장, 내장, 파스타, ...</td>\n",
       "    </tr>\n",
       "    <tr>\n",
       "      <th>2</th>\n",
       "      <td>박가네 빈대떡</td>\n",
       "      <td>박가네 삼합, 맷돌 빈대떡,고기 빈대떡, 해물 빈대떡, 마약김밥(2인), 육회탕탕이...</td>\n",
       "      <td>[박, 삼, 삼합, 합, 맷돌, 빈대떡, 고기, 해물, 마약, 마약김밥, 김밥, 2...</td>\n",
       "    </tr>\n",
       "    <tr>\n",
       "      <th>3</th>\n",
       "      <td>종부네</td>\n",
       "      <td>육회, 통골뱅이파무침, 오뱅새세트, 마약옥수수전, 모둠전, 치즈감자채전</td>\n",
       "      <td>[육회, 통, 통골뱅이파무침, 골뱅이, 파, 무침, 오, 오뱅새세트, 뱅, 새, 세...</td>\n",
       "    </tr>\n",
       "    <tr>\n",
       "      <th>4</th>\n",
       "      <td>화실</td>\n",
       "      <td>불고기 트러플 크림 파케리, 청어알 들기름 냉파스타, 명란감자구이, 청어알 두부쌈,...</td>\n",
       "      <td>[불고기, 플, 크림, 파, 리, 청어, 들기름, 냉, 냉파스타, 파스타, 명란, ...</td>\n",
       "    </tr>\n",
       "  </tbody>\n",
       "</table>\n",
       "</div>"
      ],
      "text/plain": [
       "      name                                               menu  \\\n",
       "0    막걸리전당  전당모둠전, 옛날모둠전, 국산전두부와볶음김치, 한통다골뱅이무침, 한돈육전, 홍어를무...   \n",
       "1   한식술집 돌  노돈보쌈, 뭉티기, 전복내장 파스타, 메로조림, 낙지젓갈 볶음밥, 곤드레 아란치니....   \n",
       "2  박가네 빈대떡  박가네 삼합, 맷돌 빈대떡,고기 빈대떡, 해물 빈대떡, 마약김밥(2인), 육회탕탕이...   \n",
       "3      종부네            육회, 통골뱅이파무침, 오뱅새세트, 마약옥수수전, 모둠전, 치즈감자채전   \n",
       "4       화실  불고기 트러플 크림 파케리, 청어알 들기름 냉파스타, 명란감자구이, 청어알 두부쌈,...   \n",
       "\n",
       "                                           rev_token  \n",
       "0  [전당, 전당모둠전, 모둠, 전, 옛날, 옛날모둠전, 국산, 전두, 전두부와, 부와...  \n",
       "1  [노, 노돈보쌈, 돈, 보쌈, 뭉, 뭉티, 티, 전복, 전복내장, 내장, 파스타, ...  \n",
       "2  [박, 삼, 삼합, 합, 맷돌, 빈대떡, 고기, 해물, 마약, 마약김밥, 김밥, 2...  \n",
       "3  [육회, 통, 통골뱅이파무침, 골뱅이, 파, 무침, 오, 오뱅새세트, 뱅, 새, 세...  \n",
       "4  [불고기, 플, 크림, 파, 리, 청어, 들기름, 냉, 냉파스타, 파스타, 명란, ...  "
      ]
     },
     "execution_count": 676,
     "metadata": {},
     "output_type": "execute_result"
    }
   ],
   "source": [
    "# from tqdm import tqdm\n",
    "\n",
    "\n",
    "# noun_list = []\n",
    "# for content in tqdm(df['menu']):\n",
    "#     nouns = kkma.nouns(content)\n",
    "#     noun_list.append(nouns)\n",
    "\n",
    "# df['nouns'] = noun_list\n",
    "# df.head()\n",
    "shop_list['rev_token'] = shop_list['menu'].apply(tokenizer)\n",
    "shop_list.head()"
   ]
  },
  {
   "cell_type": "code",
   "execution_count": 677,
   "metadata": {},
   "outputs": [],
   "source": [
    "# from sklearn.feature_extraction.text import TfidfVectorizer\n",
    "\n",
    "# text = [\" \".join(noun) for noun in df['nouns']]\n",
    "\n",
    "# tfidf_vectorizer = TfidfVectorizer(min_df = 5, ngram_range=(1, 5))\n",
    "# tfidf_vectorizer.fit(text)\n",
    "# vector = tfidf_vectorizer.transform(text).toarray()"
   ]
  },
  {
   "cell_type": "code",
   "execution_count": 678,
   "metadata": {},
   "outputs": [],
   "source": [
    "# from sklearn.cluster import DBSCAN\n",
    "# import numpy as np\n",
    "\n",
    "# vector = np.array(vector)\n",
    "# model = DBSCAN(eps=0.3, min_samples=6, metric = \"cosine\")\n",
    "# result = model.fit_predict(vector)\n",
    "\n",
    "# df['result'] = result\n",
    "# df.head()"
   ]
  },
  {
   "cell_type": "code",
   "execution_count": 679,
   "metadata": {},
   "outputs": [],
   "source": [
    "# for cluster_num in set(result):\n",
    "#     if(cluster_num == -1 or cluster_num == 0):\n",
    "#         continue\n",
    "#     else:\n",
    "#         print(\"cluster num : {}\".format(cluster_num))\n",
    "#         temp_df = df[df['result'] == cluster_num]\n",
    "#         for menu in temp_df['menu']:\n",
    "#             print(menu)\n",
    "#         print()"
   ]
  },
  {
   "cell_type": "code",
   "execution_count": 680,
   "metadata": {},
   "outputs": [
    {
     "name": "stdout",
     "output_type": "stream",
     "text": [
      "최대 토큰 개수 :  41\n",
      "평균 토큰 개수 :  11.0\n"
     ]
    }
   ],
   "source": [
    "print('최대 토큰 개수 : ', (max(len(i) for i in shop_list['rev_token'])))\n",
    "print('평균 토큰 개수 : ', sum(map(len, shop_list['rev_token'])) / len(shop_list['rev_token']))"
   ]
  },
  {
   "cell_type": "code",
   "execution_count": 681,
   "metadata": {},
   "outputs": [
    {
     "data": {
      "text/plain": [
       "(517, 100)"
      ]
     },
     "execution_count": 681,
     "metadata": {},
     "output_type": "execute_result"
    }
   ],
   "source": [
    "model = Word2Vec(sentences = shop_list['rev_token'], vector_size = 300, window = 5, min_count = 0, workers = 4, sg = 1)\n",
    "model.wv.vectors.shape"
   ]
  },
  {
   "cell_type": "code",
   "execution_count": 682,
   "metadata": {},
   "outputs": [
    {
     "name": "stdout",
     "output_type": "stream",
     "text": [
      "[('콩나물', 0.2541230618953705), ('메', 0.25234392285346985), ('파스타', 0.22621923685073853), ('재료', 0.2259368747472763), ('동래', 0.2196091264486313), ('수육전골', 0.2183971256017685), ('개구리', 0.2135980874300003), ('치즈감자채전', 0.2095862478017807), ('갑오징어숙회', 0.20877468585968018), ('씨', 0.20823444426059723)]\n"
     ]
    }
   ],
   "source": [
    "model_result = model.wv.most_similar('해물')\n",
    "print(model_result)"
   ]
  },
  {
   "cell_type": "code",
   "execution_count": null,
   "metadata": {},
   "outputs": [],
   "source": []
  }
 ],
 "metadata": {
  "kernelspec": {
   "display_name": "Python 3.10.7 64-bit",
   "language": "python",
   "name": "python3"
  },
  "language_info": {
   "codemirror_mode": {
    "name": "ipython",
    "version": 3
   },
   "file_extension": ".py",
   "mimetype": "text/x-python",
   "name": "python",
   "nbconvert_exporter": "python",
   "pygments_lexer": "ipython3",
   "version": "3.10.7"
  },
  "orig_nbformat": 4,
  "vscode": {
   "interpreter": {
    "hash": "b0fa6594d8f4cbf19f97940f81e996739fb7646882a419484c72d19e05852a7e"
   }
  }
 },
 "nbformat": 4,
 "nbformat_minor": 2
}
