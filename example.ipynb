{
 "cells": [
  {
   "cell_type": "code",
   "execution_count": 333,
   "metadata": {},
   "outputs": [],
   "source": [
    "from numpy import dot\n",
    "from numpy.linalg import norm\n",
    "from scipy.spatial import distance\n",
    "import numpy as np\n",
    "import pandas as pd"
   ]
  },
  {
   "cell_type": "markdown",
   "metadata": {},
   "source": []
  },
  {
   "cell_type": "code",
   "execution_count": 334,
   "metadata": {},
   "outputs": [
    {
     "data": {
      "text/plain": [
       "0    가야 프리미엄 막걸리\n",
       "Name: 전통주명, dtype: object"
      ]
     },
     "execution_count": 334,
     "metadata": {},
     "output_type": "execute_result"
    }
   ],
   "source": [
    "drinks = pd.read_csv('korean_drinks.csv') # 전통주 csv 파일 읽어오기 \n",
    "drinks.head(1) # 가장 최상위 행 출력\n",
    "drinks['전통주명'].head(1)"
   ]
  },
  {
   "cell_type": "code",
   "execution_count": 335,
   "metadata": {},
   "outputs": [
    {
     "name": "stdout",
     "output_type": "stream",
     "text": [
      "      단맛   신맛  바디감  청량감\n",
      "0    3.0  3.0  2.0  4.0\n",
      "1    3.0  3.0  2.0  3.0\n",
      "2    3.0  3.0  3.0  3.0\n",
      "3    4.0  2.0  4.0  2.0\n",
      "4    4.0  4.0  3.0  3.0\n",
      "..   ...  ...  ...  ...\n",
      "323  1.0  3.0  1.0  3.0\n",
      "324  4.0  1.0  4.0  2.0\n",
      "325  2.0  3.0  2.0  2.0\n",
      "326  2.0  3.0  3.0  2.0\n",
      "327  2.0  2.0  3.0  2.0\n",
      "\n",
      "[328 rows x 4 columns]\n"
     ]
    }
   ],
   "source": [
    "col_list = ['단맛', '신맛', '바디감', '청량감'] # 단맛, 신맛, 바디감, 청량감 열만 가져오기\n",
    "drinks_df = drinks[col_list]\n",
    "#print(drinks_df) # 출력\n",
    "print(drinks_df[0:328])"
   ]
  },
  {
   "cell_type": "code",
   "execution_count": 336,
   "metadata": {},
   "outputs": [
    {
     "name": "stdout",
     "output_type": "stream",
     "text": [
      "[3. 3. 2. 4.]\n",
      "[2. 2. 3. 2.]\n"
     ]
    }
   ],
   "source": [
    "drinks_list = np.array(drinks_df.head(329).values.tolist())\n",
    "print(drinks_list[0])\n",
    "print(drinks_list[327])"
   ]
  },
  {
   "cell_type": "code",
   "execution_count": 337,
   "metadata": {},
   "outputs": [
    {
     "name": "stdout",
     "output_type": "stream",
     "text": [
      "고도리 화이트와인 드라이 [2. 3. 2. 3.] 1.4142135623730951\n",
      "고창선운산 땡큐블루베리주 [2. 2. 2. 2.] 0.0\n",
      "구기홍주 14 [2. 2. 2. 2.] 0.0\n",
      "입장탁주 [2. 2. 2. 2.] 0.0\n"
     ]
    }
   ],
   "source": [
    "user = [2,2,2,2]\n",
    "doc1 = np.array(user)\n",
    "best = 1.5\n",
    "for i in range(0, 328):\n",
    "    doc2 = np.array(drinks_df.head(329).values[i])\n",
    "    result = distance.euclidean(doc1, doc2)\n",
    "    if result <= best:\n",
    "        best = result\n",
    "        print(drinks['전통주명'].loc[i], drinks_list[i], result)"
   ]
  },
  {
   "cell_type": "code",
   "execution_count": 338,
   "metadata": {},
   "outputs": [
    {
     "name": "stdout",
     "output_type": "stream",
     "text": [
      "5.0990195135927845\n"
     ]
    }
   ],
   "source": [
    "a = [1,1,1,1]\n",
    "b = [4,3,4,3]\n",
    "\n",
    "print(distance.euclidean(a,b))"
   ]
  }
 ],
 "metadata": {
  "kernelspec": {
   "display_name": "Python 3 (ipykernel)",
   "language": "python",
   "name": "python3"
  },
  "language_info": {
   "codemirror_mode": {
    "name": "ipython",
    "version": 3
   },
   "file_extension": ".py",
   "mimetype": "text/x-python",
   "name": "python",
   "nbconvert_exporter": "python",
   "pygments_lexer": "ipython3",
   "version": "3.10.7"
  },
  "vscode": {
   "interpreter": {
    "hash": "b0fa6594d8f4cbf19f97940f81e996739fb7646882a419484c72d19e05852a7e"
   }
  }
 },
 "nbformat": 4,
 "nbformat_minor": 2
}
