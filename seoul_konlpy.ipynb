{
 "cells": [
  {
   "cell_type": "code",
   "execution_count": 849,
   "metadata": {},
   "outputs": [],
   "source": [
    "import numpy as np\n",
    "import pandas as pd\n",
    "import io\n",
    "import re\n",
    "from konlpy.tag import Hannanum, Kkma, Komoran, Mecab, Okt\n",
    "from gensim.models import Word2Vec"
   ]
  },
  {
   "cell_type": "code",
   "execution_count": 850,
   "metadata": {},
   "outputs": [],
   "source": [
    "from pandas import read_csv\n",
    "\n",
    "\n",
    "data = read_csv('/Users/minhyuk/study/example/seoul.csv')"
   ]
  },
  {
   "cell_type": "code",
   "execution_count": 851,
   "metadata": {},
   "outputs": [
    {
     "data": {
      "text/html": [
       "<div>\n",
       "<style scoped>\n",
       "    .dataframe tbody tr th:only-of-type {\n",
       "        vertical-align: middle;\n",
       "    }\n",
       "\n",
       "    .dataframe tbody tr th {\n",
       "        vertical-align: top;\n",
       "    }\n",
       "\n",
       "    .dataframe thead th {\n",
       "        text-align: right;\n",
       "    }\n",
       "</style>\n",
       "<table border=\"1\" class=\"dataframe\">\n",
       "  <thead>\n",
       "    <tr style=\"text-align: right;\">\n",
       "      <th></th>\n",
       "      <th>name</th>\n",
       "      <th>menu</th>\n",
       "    </tr>\n",
       "  </thead>\n",
       "  <tbody>\n",
       "    <tr>\n",
       "      <th>0</th>\n",
       "      <td>막걸리전당</td>\n",
       "      <td>전당모둠전, 옛날모둠전, 국산전두부와볶음김치, 한통다골뱅이무침, 한돈육전, 홍어를무...</td>\n",
       "    </tr>\n",
       "    <tr>\n",
       "      <th>1</th>\n",
       "      <td>한식술집 돌</td>\n",
       "      <td>노돈보쌈, 뭉티기, 전복내장 파스타, 메로조림, 낙지젓갈 볶음밥, 곤드레 아란치니....</td>\n",
       "    </tr>\n",
       "    <tr>\n",
       "      <th>2</th>\n",
       "      <td>박가네 빈대떡</td>\n",
       "      <td>박가네 삼합, 맷돌 빈대떡,고기 빈대떡, 해물 빈대떡, 마약김밥(2인), 육회탕탕이...</td>\n",
       "    </tr>\n",
       "    <tr>\n",
       "      <th>3</th>\n",
       "      <td>종부네</td>\n",
       "      <td>육회, 통골뱅이파무침, 오뱅새세트, 마약옥수수전, 모둠전, 치즈감자채전</td>\n",
       "    </tr>\n",
       "    <tr>\n",
       "      <th>4</th>\n",
       "      <td>화실</td>\n",
       "      <td>불고기 트러플 크림 파케리, 청어알 들기름 냉파스타, 명란감자구이, 청어알 두부쌈,...</td>\n",
       "    </tr>\n",
       "  </tbody>\n",
       "</table>\n",
       "</div>"
      ],
      "text/plain": [
       "      name                                               menu\n",
       "0    막걸리전당  전당모둠전, 옛날모둠전, 국산전두부와볶음김치, 한통다골뱅이무침, 한돈육전, 홍어를무...\n",
       "1   한식술집 돌  노돈보쌈, 뭉티기, 전복내장 파스타, 메로조림, 낙지젓갈 볶음밥, 곤드레 아란치니....\n",
       "2  박가네 빈대떡  박가네 삼합, 맷돌 빈대떡,고기 빈대떡, 해물 빈대떡, 마약김밥(2인), 육회탕탕이...\n",
       "3      종부네            육회, 통골뱅이파무침, 오뱅새세트, 마약옥수수전, 모둠전, 치즈감자채전\n",
       "4       화실  불고기 트러플 크림 파케리, 청어알 들기름 냉파스타, 명란감자구이, 청어알 두부쌈,..."
      ]
     },
     "execution_count": 851,
     "metadata": {},
     "output_type": "execute_result"
    }
   ],
   "source": [
    "shop_list = data[['name', 'menu']]\n",
    "shop_list.head()"
   ]
  },
  {
   "cell_type": "code",
   "execution_count": 852,
   "metadata": {},
   "outputs": [],
   "source": [
    "# df = pd.DataFrame(shop_list, columns = ['name', 'menu'])\n",
    "# df.head()"
   ]
  },
  {
   "cell_type": "code",
   "execution_count": 853,
   "metadata": {},
   "outputs": [],
   "source": [
    "hannanum = Hannanum()\n",
    "kkma = Kkma()\n",
    "komoran = Komoran()\n",
    "okt = Okt()\n",
    "\n",
    "\n",
    "def tokenizer(row):\n",
    "    return okt.nouns(row)"
   ]
  },
  {
   "cell_type": "code",
   "execution_count": 854,
   "metadata": {},
   "outputs": [
    {
     "name": "stderr",
     "output_type": "stream",
     "text": [
      "/var/folders/k6/8bdr75150lx2_c2xq40f94nm0000gn/T/ipykernel_46046/3709259875.py:11: SettingWithCopyWarning: \n",
      "A value is trying to be set on a copy of a slice from a DataFrame.\n",
      "Try using .loc[row_indexer,col_indexer] = value instead\n",
      "\n",
      "See the caveats in the documentation: https://pandas.pydata.org/pandas-docs/stable/user_guide/indexing.html#returning-a-view-versus-a-copy\n",
      "  shop_list['rev_token'] = shop_list['menu'].apply(tokenizer)\n"
     ]
    },
    {
     "data": {
      "text/plain": [
       "<bound method NDFrame.head of                    name                                               menu  \\\n",
       "0                 막걸리전당  전당모둠전, 옛날모둠전, 국산전두부와볶음김치, 한통다골뱅이무침, 한돈육전, 홍어를무...   \n",
       "1                한식술집 돌  노돈보쌈, 뭉티기, 전복내장 파스타, 메로조림, 낙지젓갈 볶음밥, 곤드레 아란치니....   \n",
       "2               박가네 빈대떡  박가네 삼합, 맷돌 빈대떡,고기 빈대떡, 해물 빈대떡, 마약김밥(2인), 육회탕탕이...   \n",
       "3                   종부네            육회, 통골뱅이파무침, 오뱅새세트, 마약옥수수전, 모둠전, 치즈감자채전   \n",
       "4                    화실  불고기 트러플 크림 파케리, 청어알 들기름 냉파스타, 명란감자구이, 청어알 두부쌈,...   \n",
       "5                   미주류        한돈 보쌈, 한우 육회, 치즈 감자전, 등심튀김, 메밀전병, 해물파전, 감태밥   \n",
       "6                  청주한씨           청주한씨 술상, 열기구이, 삼치구이, 브리치즈구이, 국물떡볶이, 마른안주   \n",
       "7               우리술집다람쥐  고기완자전, 제주 피순대구이, 반건조 생선구이, 황태 어묵탕, 다람쥐 순두부 찌개,...   \n",
       "8                   오보강  바지락술찜 파스타, 고추장찌개, 트러플 전복버터구이, 삼겹살 쌈장구이, 먹태구이, ...   \n",
       "9                 서우막걸리                 두툼 돼지육전,치즈 불닭볶음,마약 옥수수 튀김,순두부 쫄면찌개   \n",
       "10                  도르리             우니와 단새우, 제철조개술찜, 2+한우육회, 오믈렛 감자전, 명란구이   \n",
       "11            솟대막걸리 양조장    양조장 수육, 매운 콩나물 오징어, 통 골뱅이 소면무침, 고기 김치전, 뚝배기 어묵탕   \n",
       "12                 삼씨오화  칼만둣국, 봄나물전, 목살구이에 곁들여 먹는 홍어장과 오이지 삼합, 삼씨오화 군만두...   \n",
       "13                   윤달      소고기 사태수육 전골, 고추장 돼지꼬리 구이, 미도어묵탕, 생선구이와 된장나물무침   \n",
       "14                  주방문                                   계절숙성회, 해산물, 제철메뉴   \n",
       "15                 주052                       언양불고기, 장어국수, 편육샐러드, 052 누룩육회   \n",
       "16                 늘,안암                  한우 도가니 어묵전골, 웅치기 닭, 늘 닭볶음탕, 늘 떡볶이   \n",
       "17                백곰막걸리         통영 탱글탱글 가리비찜, 촉촉보들 이베리코 목살 수육, 부산 달고기 소금구이   \n",
       "18                  더다믐                           명란감자전, 고추장육회, 연두부 치즈두루치기   \n",
       "19                   작정                                      맡김차림(8코스)예약필수   \n",
       "20                 독도16                                           제철 생선 구이   \n",
       "21               낯선한식븟다                                    대대포막걸리, 도문대작막걸리   \n",
       "22               학술적연구소                                     채끝 스테이크, 닭볶음스튜   \n",
       "23                  금남정                                        마늘 버터 명란 구이   \n",
       "24                  미주가                           이베리코구이, 소프트크랩튀김, 부채살스테이크   \n",
       "25                  요릿집                         제철 재료로 일주일에 한번 바뀌는 한식 코스요리   \n",
       "26                 연남고집                             오겹살 수육, 가리비백합탕, 전라도식육전   \n",
       "27              성북동 막걸리                                            파전, 막걸리   \n",
       "28              산울림1992                                        치즈감자전, 반상세트   \n",
       "29                 술개구리                 돼지고기 숙주볶음, 술개구리 감자전, 두부김치, 해물짬뽕탕 등   \n",
       "30            이박사 신동막걸리                                  막걸리, 굴조개찜, 한우등심구이   \n",
       "31                   얼쑤                                            막걸리, 파전   \n",
       "32               가제트 술집                                         막걸리, 감자전 등   \n",
       "33                막걸리학교                                          막걸리, 두부김치   \n",
       "34               막걸리이야기                                                 수육   \n",
       "35                   주막                                     그대로 감자전, 해물지지미   \n",
       "36                  팔뚝집                                          따판지, 만두전골   \n",
       "37                   담은                                       모듬전, 돈 담은 육전   \n",
       "38                 술이송송                            불고기 치즈 파전, 베이컨 치즈 김치전 등   \n",
       "39                    작                                            우리술 칵테일   \n",
       "40            마법갈비 요술꼬치                                   닭완자 꼬치, 대파&amp;닭   \n",
       "41                  취하당                                   차돌숙주볶음, 오색빛깔 모듬전   \n",
       "42             2018년 5월                                            배추전, 보쌈   \n",
       "43                 청담만옥                                        성게알알알, 청담한상   \n",
       "44                   묵전                                    시골장터모둠전, 모듬해물파전   \n",
       "45            막걸리는 살아있다                                우럭탕수, 탁주, 약주, 증류주 등   \n",
       "46                 달빛보쌈                                      달빛모둠보쌈, 달빛 술상   \n",
       "47              매향이네 주막                                숙주 듬뿍 닭볶음탕, 베이컨 김치전   \n",
       "48              대동집 강남점                               대동보쌈세트, 육회, 육전, 해물파전   \n",
       "49              다모토리 히읗                                 갈비구이와 부추샐러드, 막걸리 등   \n",
       "50           한국술집 안씨막걸리                                   지리산하몽, 막걸리 ,약주 등   \n",
       "51              해방촌 윤주당                          외할머니 호박찌개, 치즈단감자전, 제주막창순대   \n",
       "52                  이파리                                  조선간장 육회, 도가니 된장전골   \n",
       "53                  물뛴다                 김치 생 두부, 명란 두부 젓국,몬트락 보쌈, 소고기 수육전골   \n",
       "54              산체스 막걸리                                       미국감자전, 바지락술찜   \n",
       "55                   두두                                       명태무침보쌈, 명란구이   \n",
       "56  더 그리핀 (The Griffin)                                            우리술 칵테일   \n",
       "57                 익선반주                               맵계, 문어 카르파치오, 불고기지짐이   \n",
       "58                  반기다                                   퓨전 한식, 막걸리 칵테일 등   \n",
       "\n",
       "                                            rev_token  \n",
       "0   [모, 옛날, 모, 국산, 두부, 볶음, 김치, 통, 골뱅이, 돈, 육전, 홍어, ...  \n",
       "1   [노돈, 보쌈, 뭉티기, 전복, 내장, 파스타, 메로, 조림, 낙지, 젓갈, 볶음밥...  \n",
       "2   [합, 맷돌, 빈대떡, 고기, 빈대떡, 해물, 빈대떡, 마약, 김밥, 인, 육회, ...  \n",
       "3       [육회, 통, 골뱅이, 파, 뱅, 세트, 마약, 옥수수, 전, 모, 치즈, 감자]  \n",
       "4   [불고기, 트러플, 크림, 파, 케리, 청어, 알, 들기름, 냉, 파스타, 명란, ...  \n",
       "5   [돈, 보쌈, 한우, 육회, 치즈, 감자전, 등심, 튀김, 메밀, 전병, 해물파전,...  \n",
       "6      [청주, 한씨, 술상, 열기구, 삼치, 구이, 브리, 치즈, 구이, 국물, 떡볶이]  \n",
       "7   [고기, 완, 자전, 제주, 피순대, 구이, 건조, 생선, 구이, 황태, 어묵, 탕...  \n",
       "8   [바지락, 술찜, 파스타, 고추장, 찌개, 트러플, 전복, 버터, 구이, 삼겹살, ...  \n",
       "9   [두툼, 돼지, 육전, 치즈, 불닭, 볶음, 마약, 옥수수, 튀김, 순두부, 쫄면,...  \n",
       "10         [새우, 제철, 조개, 술찜, 한우, 육회, 오믈렛, 감자전, 명란, 구이]  \n",
       "11  [양조장, 수육, 콩나물, 오징어, 통, 골뱅이, 소면, 고기, 김치전, 뚝배기, ...  \n",
       "12  [칼, 만둣국, 봄나물, 전, 목, 살구, 홍어, 오이지, 합, 씨, 화, 군, 만...  \n",
       "13  [소고기, 사태, 수육, 전골, 고추장, 돼지, 꼬리, 구이, 미도, 어묵, 탕, ...  \n",
       "14                           [계절, 숙성, 회, 해산물, 제철, 메뉴]  \n",
       "15                     [불고기, 장어, 국수, 편육, 샐러드, 누룩, 육회]  \n",
       "16       [한우, 도가니, 어묵, 전골, 웅, 치기, 닭, 늘, 닭볶음탕, 늘, 떡볶이]  \n",
       "17  [통영, 가리비, 찜, 촉촉보, 베리, 코, 목살, 수육, 부산, 달고기, 소금, 구이]  \n",
       "18                   [명란, 감자전, 고추장, 육회, 두부, 치즈, 두루치기]  \n",
       "19                                   [차림, 코스, 예약, 필수]  \n",
       "20                                       [제철, 생선, 구이]  \n",
       "21                               [대포, 막걸리, 도문대작, 막걸리]  \n",
       "22                              [채끝, 스테이크, 닭, 볶음, 스튜]  \n",
       "23                                   [마늘, 버터, 명란, 구이]  \n",
       "24                [베리, 코, 구이, 소프트, 크랩, 튀김, 부채살, 스테이크]  \n",
       "25                      [제철, 재료, 일주일, 한번, 한식, 코스, 요리]  \n",
       "26                      [겹살, 수육, 가리비, 백합, 탕, 전라도, 육전]  \n",
       "27                                          [파전, 막걸리]  \n",
       "28                                  [치즈, 감자전, 반상, 세트]  \n",
       "29      [돼지고기, 숙주, 볶음, 술, 개구리, 감자전, 두부김치, 해물짬뽕, 탕, 등]  \n",
       "30                          [막걸리, 굴, 조개찜, 한우, 등심, 구이]  \n",
       "31                                          [막걸리, 파전]  \n",
       "32                                      [막걸리, 감자전, 등]  \n",
       "33                                        [막걸리, 두부김치]  \n",
       "34                                               [수육]  \n",
       "35                                 [그대로, 감자전, 해물, 지미]  \n",
       "36                                         [판지, 만두전골]  \n",
       "37                                       [모듬전, 돈, 육전]  \n",
       "38                     [불고기, 치즈, 파전, 베이컨, 치즈, 김치전, 등]  \n",
       "39                                       [우리, 술, 칵테일]  \n",
       "40                                   [닭완자, 꼬치, 대파, 닭]  \n",
       "41                          [차돌, 숙주, 볶음, 오색, 빛깔, 모듬전]  \n",
       "42                                        [배추, 전, 보쌈]  \n",
       "43                                   [성게, 알알알, 청담, 상]  \n",
       "44                               [시골, 장터, 모, 듬, 해물파전]  \n",
       "45                           [우럭, 탕수, 탁주, 약주, 증류주, 등]  \n",
       "46                                [달빛, 모, 보쌈, 달빛, 술상]  \n",
       "47                           [숙주, 듬뿍, 닭볶음탕, 베이컨, 김치전]  \n",
       "48                         [대동, 보쌈, 세트, 육회, 육전, 해물파전]  \n",
       "49                          [갈비, 구이, 부추, 샐러드, 막걸리, 등]  \n",
       "50                              [지리산, 하몽, 막걸리, 약주, 등]  \n",
       "51                  [외할머니, 호박, 찌개, 치즈, 감자전, 제주, 막창순대]  \n",
       "52                            [조선, 간장, 육회, 도가니, 된장전골]  \n",
       "53          [김치, 생, 두부, 명란, 두부, 젓국, 몬트락, 보쌈, 소고기, 전골]  \n",
       "54                                 [미국, 감자전, 바지락, 술찜]  \n",
       "55                                   [명태, 보쌈, 명란, 구이]  \n",
       "56                                       [우리, 술, 칵테일]  \n",
       "57                               [문어, 카르파치오, 불고기, 지짐]  \n",
       "58                              [퓨전, 한식, 막걸리, 칵테일, 등]  >"
      ]
     },
     "execution_count": 854,
     "metadata": {},
     "output_type": "execute_result"
    }
   ],
   "source": [
    "# from tqdm import tqdm\n",
    "\n",
    "\n",
    "# noun_list = []\n",
    "# for content in tqdm(df['menu']):\n",
    "#     nouns = kkma.nouns(content)\n",
    "#     noun_list.append(nouns)\n",
    "\n",
    "# df['nouns'] = noun_list\n",
    "# df.head()\n",
    "shop_list['rev_token'] = shop_list['menu'].apply(tokenizer)\n",
    "shop_list.head"
   ]
  },
  {
   "cell_type": "code",
   "execution_count": 855,
   "metadata": {},
   "outputs": [],
   "source": [
    "# from sklearn.feature_extraction.text import TfidfVectorizer\n",
    "\n",
    "# text = [\" \".join(noun) for noun in df['nouns']]\n",
    "\n",
    "# tfidf_vectorizer = TfidfVectorizer(min_df = 5, ngram_range=(1, 5))\n",
    "# tfidf_vectorizer.fit(text)\n",
    "# vector = tfidf_vectorizer.transform(text).toarray()"
   ]
  },
  {
   "cell_type": "code",
   "execution_count": 856,
   "metadata": {},
   "outputs": [],
   "source": [
    "# from sklearn.cluster import DBSCAN\n",
    "# import numpy as np\n",
    "\n",
    "# vector = np.array(vector)\n",
    "# model = DBSCAN(eps=0.3, min_samples=6, metric = \"cosine\")\n",
    "# result = model.fit_predict(vector)\n",
    "\n",
    "# df['result'] = result\n",
    "# df.head()"
   ]
  },
  {
   "cell_type": "code",
   "execution_count": 857,
   "metadata": {},
   "outputs": [],
   "source": [
    "# for cluster_num in set(result):\n",
    "#     if(cluster_num == -1 or cluster_num == 0):\n",
    "#         continue\n",
    "#     else:\n",
    "#         print(\"cluster num : {}\".format(cluster_num))\n",
    "#         temp_df = df[df['result'] == cluster_num]\n",
    "#         for menu in temp_df['menu']:\n",
    "#             print(menu)\n",
    "#         print()"
   ]
  },
  {
   "cell_type": "code",
   "execution_count": 858,
   "metadata": {},
   "outputs": [
    {
     "name": "stdout",
     "output_type": "stream",
     "text": [
      "최대 토큰 개수 :  28\n",
      "평균 토큰 개수 :  7.932203389830509\n"
     ]
    }
   ],
   "source": [
    "print('최대 토큰 개수 : ', (max(len(i) for i in shop_list['rev_token'])))\n",
    "print('평균 토큰 개수 : ', sum(map(len, shop_list['rev_token'])) / len(shop_list['rev_token']))"
   ]
  },
  {
   "cell_type": "code",
   "execution_count": 859,
   "metadata": {},
   "outputs": [
    {
     "data": {
      "text/plain": [
       "(258, 200)"
      ]
     },
     "execution_count": 859,
     "metadata": {},
     "output_type": "execute_result"
    }
   ],
   "source": [
    "model = Word2Vec(sentences = shop_list['rev_token'], vector_size = 200, window = 5, min_count = 0, sg = 1)\n",
    "model.wv.vectors.shape"
   ]
  },
  {
   "cell_type": "code",
   "execution_count": 860,
   "metadata": {},
   "outputs": [
    {
     "name": "stdout",
     "output_type": "stream",
     "text": [
      "[('낙지', 0.1918555349111557), ('제주', 0.15438212454319), ('대동', 0.14788880944252014), ('알알알', 0.14600659906864166), ('김치전', 0.14575918018817902), ('장어', 0.14403606951236725), ('판지', 0.13601583242416382), ('차돌', 0.13541477918624878), ('콩나물', 0.13200055062770844), ('갈비', 0.1309441328048706)]\n"
     ]
    }
   ],
   "source": [
    "model_result = model.wv.most_similar('전')\n",
    "print(model_result)"
   ]
  },
  {
   "cell_type": "code",
   "execution_count": null,
   "metadata": {},
   "outputs": [],
   "source": []
  }
 ],
 "metadata": {
  "kernelspec": {
   "display_name": "Python 3.10.7 64-bit",
   "language": "python",
   "name": "python3"
  },
  "language_info": {
   "codemirror_mode": {
    "name": "ipython",
    "version": 3
   },
   "file_extension": ".py",
   "mimetype": "text/x-python",
   "name": "python",
   "nbconvert_exporter": "python",
   "pygments_lexer": "ipython3",
   "version": "3.10.7"
  },
  "orig_nbformat": 4,
  "vscode": {
   "interpreter": {
    "hash": "b0fa6594d8f4cbf19f97940f81e996739fb7646882a419484c72d19e05852a7e"
   }
  }
 },
 "nbformat": 4,
 "nbformat_minor": 2
}
