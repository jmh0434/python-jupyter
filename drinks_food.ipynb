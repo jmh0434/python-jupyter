{
 "cells": [
  {
   "cell_type": "code",
   "execution_count": null,
   "metadata": {},
   "outputs": [],
   "source": [
    "import numpy as np\n",
    "import pandas as pd\n",
    "import io\n",
    "import re\n",
    "from konlpy.tag import Hannanum, Kkma, Komoran, Mecab, Okt\n",
    "from gensim.models import Word2Vec\n"
   ]
  },
  {
   "cell_type": "code",
   "execution_count": null,
   "metadata": {},
   "outputs": [],
   "source": [
    "data = pd.read_csv('/Users/minhyuk/study/example/korean_drinks_food.csv')\n",
    "data.head()\n"
   ]
  },
  {
   "cell_type": "code",
   "execution_count": null,
   "metadata": {},
   "outputs": [],
   "source": [
    "shop_list = data[['전통주명', '잘 어울리는 음식']]\n",
    "shop_list.head()\n"
   ]
  },
  {
   "cell_type": "code",
   "execution_count": null,
   "metadata": {},
   "outputs": [],
   "source": [
    "df = pd.DataFrame(shop_list, columns=['전통주명', '잘 어울리는 음식'])\n",
    "df.head()\n"
   ]
  },
  {
   "cell_type": "code",
   "execution_count": null,
   "metadata": {},
   "outputs": [],
   "source": [
    "hannanum = Hannanum()\n",
    "kkma = Kkma()\n",
    "komoran = Komoran()\n",
    "okt = Okt()\n"
   ]
  },
  {
   "cell_type": "code",
   "execution_count": null,
   "metadata": {},
   "outputs": [],
   "source": [
    "from tqdm import tqdm\n",
    "\n",
    "\n",
    "noun_list = []\n",
    "for content in tqdm(df['잘 어울리는 음식']):\n",
    "    nouns = okt.nouns(content)\n",
    "    noun_list.append(nouns)\n",
    "\n",
    "df['nouns'] = noun_list\n",
    "df.head()\n"
   ]
  },
  {
   "cell_type": "code",
   "execution_count": null,
   "metadata": {},
   "outputs": [],
   "source": [
    "from sklearn.feature_extraction.text import TfidfVectorizer\n",
    "\n",
    "text = [\" \".join(noun) for noun in df['nouns']]\n",
    "\n",
    "tfidf_vectorizer = TfidfVectorizer(min_df=5, ngram_range=(1, 5))\n",
    "tfidf_vectorizer.fit(text)\n",
    "vector = tfidf_vectorizer.transform(text).toarray()\n"
   ]
  },
  {
   "cell_type": "code",
   "execution_count": null,
   "metadata": {},
   "outputs": [],
   "source": [
    "from sklearn.cluster import DBSCAN\n",
    "import numpy as np\n",
    "\n",
    "vector = np.array(vector)\n",
    "model = DBSCAN(eps=0.4, min_samples=5, metric=\"cosine\")\n",
    "result = model.fit_predict(vector)\n",
    "\n",
    "df['result'] = result\n",
    "df.head()\n"
   ]
  },
  {
   "cell_type": "code",
   "execution_count": null,
   "metadata": {},
   "outputs": [],
   "source": [
    "for cluster_num in set(result):\n",
    "    if (cluster_num == -1 or cluster_num == 0):\n",
    "        continue\n",
    "    else:\n",
    "        print(\"cluster num : {}\".format(cluster_num))\n",
    "        temp_df = df[df['result'] == cluster_num]\n",
    "        for menu in temp_df['잘 어울리는 음식']:\n",
    "            print(menu)\n",
    "        print()\n"
   ]
  }
 ],
 "metadata": {
  "kernelspec": {
   "display_name": "Python 3.10.7 64-bit",
   "language": "python",
   "name": "python3"
  },
  "language_info": {
   "name": "python",
   "version": "3.10.7"
  },
  "orig_nbformat": 4,
  "vscode": {
   "interpreter": {
    "hash": "b0fa6594d8f4cbf19f97940f81e996739fb7646882a419484c72d19e05852a7e"
   }
  }
 },
 "nbformat": 4,
 "nbformat_minor": 2
}
